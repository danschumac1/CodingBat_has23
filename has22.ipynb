{
 "cells": [
  {
   "cell_type": "markdown",
   "id": "6b5c2973",
   "metadata": {},
   "source": [
    "# List-2 > has22"
   ]
  },
  {
   "cell_type": "markdown",
   "id": "5df2e7e9",
   "metadata": {},
   "source": [
    "Given an array of ints, return True if the array contains a 2 next to a 2 somewhere.\n",
    "\n",
    "\n",
    "has22([1, 2, 2]) → True\n",
    "\n",
    "has22([1, 2, 1, 2]) → False\n",
    "\n",
    "has22([2, 1, 2]) → False"
   ]
  },
  {
   "cell_type": "code",
   "execution_count": null,
   "id": "a596f7d6",
   "metadata": {},
   "outputs": [],
   "source": [
    "def has22(nums):\n",
    "  \n",
    "  if len(nums) == 0 or len(nums) == 1:\n",
    "    return False\n",
    "    \n",
    "  else:\n",
    "    for i in range(0,len(nums)-1):\n",
    "      if nums[i]==2 and nums[i+1]==2:\n",
    "        return True\n",
    "      else:\n",
    "        pass\n",
    "    \n",
    "    return False"
   ]
  }
 ],
 "metadata": {
  "kernelspec": {
   "display_name": "Python 3 (ipykernel)",
   "language": "python",
   "name": "python3"
  },
  "language_info": {
   "codemirror_mode": {
    "name": "ipython",
    "version": 3
   },
   "file_extension": ".py",
   "mimetype": "text/x-python",
   "name": "python",
   "nbconvert_exporter": "python",
   "pygments_lexer": "ipython3",
   "version": "3.9.12"
  }
 },
 "nbformat": 4,
 "nbformat_minor": 5
}
